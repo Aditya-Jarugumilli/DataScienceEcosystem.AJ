{
 "cells": [
  {
   "cell_type": "markdown",
   "id": "cb065d23-12bc-4139-8586-7fcf800479a7",
   "metadata": {},
   "source": [
    "# Data Science Tools and Ecosystem"
   ]
  },
  {
   "cell_type": "markdown",
   "id": "4a90ee7e-6bb0-4ac7-a7c7-c691144c3832",
   "metadata": {},
   "source": [
    "In this notebook, Data Science Tools and Ecosystem are summarized."
   ]
  },
  {
   "cell_type": "markdown",
   "id": "703deaf1-7a01-458d-9f41-bcddc8b56f64",
   "metadata": {},
   "source": [
    "**Objectives**\n",
    "* list Popular languages for Data Science.\n",
    "* List Commonly used libraries by Data Scientists.\n",
    "* Coding Few examples of evaluating arithmetic expressions in Python."
   ]
  },
  {
   "cell_type": "markdown",
   "id": "72950b5b-f3bd-48fb-a89f-d299ea90204b",
   "metadata": {},
   "source": [
    "Some of the popular languages that Data Scientists use are:\n",
    "1. Python\n",
    "2. R\n",
    "3. SQL"
   ]
  },
  {
   "cell_type": "markdown",
   "id": "87448ef1-20ea-4f0f-a36e-05d37b19490d",
   "metadata": {},
   "source": [
    "Some of the commonly used libraries used by Data Scientists include:\n",
    "1. Numpy\n",
    "2. Pandas\n",
    "3. scikit-learn"
   ]
  },
  {
   "cell_type": "markdown",
   "id": "e4f928ab-1fe4-4234-a1ad-8780235a8904",
   "metadata": {},
   "source": [
    "| Data Science Tools|\n",
    "| -------------------|\n",
    "| Jupyter Notebook |\n",
    "| Rstudio |\n",
    "| VS Code |"
   ]
  },
  {
   "cell_type": "markdown",
   "id": "b136ab39-0828-4bbc-8057-dd160423639c",
   "metadata": {},
   "source": [
    "### Below are a few examples of evaluating arithmetic expressions in Python."
   ]
  },
  {
   "cell_type": "code",
   "execution_count": 2,
   "id": "a4e6a44d-dee2-44a0-8298-a4b5a0c2b74c",
   "metadata": {},
   "outputs": [
    {
     "name": "stdout",
     "output_type": "stream",
     "text": [
      "17\n"
     ]
    }
   ],
   "source": [
    "# This is a simple arithmetic expression to multiply then add integers.\n",
    "result = (3*4) + 5\n",
    "print(result)"
   ]
  },
  {
   "cell_type": "code",
   "execution_count": 3,
   "id": "b55a2de4-6329-4785-ae6e-bd29d55d76ae",
   "metadata": {},
   "outputs": [
    {
     "name": "stdout",
     "output_type": "stream",
     "text": [
      "3.3333333333333335\n"
     ]
    }
   ],
   "source": [
    "# This will convert 200 minutes to hours by dividing by 60\n",
    "minutes = 200\n",
    "hours = minutes / 60\n",
    "print(hours)"
   ]
  },
  {
   "cell_type": "markdown",
   "id": "a5c1f0a8-11f2-461d-ad2f-ab050ac670bc",
   "metadata": {},
   "source": [
    "## Author\n",
    "Aditya Jarugumilli"
   ]
  },
  {
   "cell_type": "code",
   "execution_count": null,
   "id": "8636b325-a725-4724-b122-b36cac83608b",
   "metadata": {},
   "outputs": [],
   "source": []
  }
 ],
 "metadata": {
  "kernelspec": {
   "display_name": "Python 3 (ipykernel)",
   "language": "python",
   "name": "python3"
  },
  "language_info": {
   "codemirror_mode": {
    "name": "ipython",
    "version": 3
   },
   "file_extension": ".py",
   "mimetype": "text/x-python",
   "name": "python",
   "nbconvert_exporter": "python",
   "pygments_lexer": "ipython3",
   "version": "3.11.7"
  }
 },
 "nbformat": 4,
 "nbformat_minor": 5
}
